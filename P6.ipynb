{
  "nbformat": 4,
  "nbformat_minor": 0,
  "metadata": {
    "colab": {
      "provenance": [],
      "authorship_tag": "ABX9TyN7rDeKQah6IsiR0Crj+rrg",
      "include_colab_link": true
    },
    "kernelspec": {
      "name": "python3",
      "display_name": "Python 3"
    },
    "language_info": {
      "name": "python"
    }
  },
  "cells": [
    {
      "cell_type": "markdown",
      "metadata": {
        "id": "view-in-github",
        "colab_type": "text"
      },
      "source": [
        "<a href=\"https://colab.research.google.com/github/polyuki/Python-Practice/blob/main/P6.ipynb\" target=\"_parent\"><img src=\"https://colab.research.google.com/assets/colab-badge.svg\" alt=\"Open In Colab\"/></a>"
      ]
    },
    {
      "cell_type": "code",
      "execution_count": 1,
      "metadata": {
        "colab": {
          "base_uri": "https://localhost:8080/"
        },
        "id": "k0BpI-8OdUCc",
        "outputId": "61ced492-9552-4d62-8853-cfc0a855a99c"
      },
      "outputs": [
        {
          "output_type": "stream",
          "name": "stdout",
          "text": [
            "green\n",
            "5\n"
          ]
        }
      ],
      "source": [
        "alien_0 = {'color': 'green', 'points': 5}\n",
        "\n",
        "print(alien_0['color'])\n",
        "print(alien_0['points'])"
      ]
    },
    {
      "cell_type": "code",
      "source": [
        "alien_0 = {'color': 'green', 'points': 5}\n",
        "\n",
        "new_points = alien_0['points']\n",
        "print(f\"You just earned {new_points} points!\")"
      ],
      "metadata": {
        "colab": {
          "base_uri": "https://localhost:8080/"
        },
        "id": "y27zJnQNdwSJ",
        "outputId": "8ad91ca6-b18d-4a5c-86eb-4e339cbaa225"
      },
      "execution_count": 2,
      "outputs": [
        {
          "output_type": "stream",
          "name": "stdout",
          "text": [
            "You just earned 5 points!\n"
          ]
        }
      ]
    },
    {
      "cell_type": "code",
      "source": [
        "alien_0 = {'color': 'green', 'points': 5}\n",
        "print(alien_0)\n",
        "\n",
        "alien_0['x_position'] = 0\n",
        "alien_0['y_position'] = 25\n",
        "print(alien_0)"
      ],
      "metadata": {
        "colab": {
          "base_uri": "https://localhost:8080/"
        },
        "id": "FupeLmxJeZzC",
        "outputId": "de708aca-f933-4bf6-feee-6b56344ee167"
      },
      "execution_count": 3,
      "outputs": [
        {
          "output_type": "stream",
          "name": "stdout",
          "text": [
            "{'color': 'green', 'points': 5}\n",
            "{'color': 'green', 'points': 5, 'x_position': 0, 'y_position': 25}\n"
          ]
        }
      ]
    },
    {
      "cell_type": "code",
      "source": [
        "alien_0 = {'x_position': 0, 'y_position': 25, 'speed': 'medium'}\n",
        "print(f\"Original x-position: {alien_0['x_position']}\")\n",
        "\n",
        "# 向右移动外星人。\n",
        "# 根据当前速度确定将外星人向右移动多远。\n",
        "if alien_0['speed'] == 'slow':\n",
        "    x_increment = 1\n",
        "elif alien_0['speed'] == 'medium':\n",
        "    x_increment = 2\n",
        "else:\n",
        "    # 这个外星人的移动速度肯定很快。\n",
        "    x_increment = 3\n",
        "\n",
        "# 新位置为旧位置加上移动距离。\n",
        "alien_0['x_position'] = alien_0['x_position'] + x_increment\n",
        "\n",
        "print(f\"New position: {alien_0['x_position']}\")\n"
      ],
      "metadata": {
        "colab": {
          "base_uri": "https://localhost:8080/"
        },
        "id": "kEacrBoHetXz",
        "outputId": "b7cd64ff-0d7c-48b7-ba25-53a75cc68c65"
      },
      "execution_count": 8,
      "outputs": [
        {
          "output_type": "stream",
          "name": "stdout",
          "text": [
            "Original x-position: 0\n",
            "New position: 2\n"
          ]
        }
      ]
    },
    {
      "cell_type": "code",
      "source": [
        "  favorite_languages = {\n",
        "      'jen': 'python',\n",
        "      'sarah': 'c',\n",
        "      'edward': 'ruby',\n",
        "      'phil': 'python',\n",
        "      }\n",
        "\n",
        "  language = favorite_languages['sarah'].title()\n",
        "  print(f\"Sarah's favorite language is {language}.\")"
      ],
      "metadata": {
        "colab": {
          "base_uri": "https://localhost:8080/"
        },
        "id": "kf2729i-gdqd",
        "outputId": "db8e36f7-8126-4d0a-c331-98b9a4b40666"
      },
      "execution_count": 11,
      "outputs": [
        {
          "output_type": "stream",
          "name": "stdout",
          "text": [
            "Sarah's favorite language is C.\n"
          ]
        }
      ]
    },
    {
      "cell_type": "code",
      "source": [
        "alien_0 = {'color': 'green', 'speed': 'slow'}\n",
        "\n",
        "point_value = alien_0.get('points', 'No point value assigned.')\n",
        "print(point_value)"
      ],
      "metadata": {
        "colab": {
          "base_uri": "https://localhost:8080/"
        },
        "id": "4cIJ_tzuiPKC",
        "outputId": "5e5cc1c0-5d9c-4905-8992-537151cedeac"
      },
      "execution_count": 12,
      "outputs": [
        {
          "output_type": "stream",
          "name": "stdout",
          "text": [
            "No point value assigned.\n"
          ]
        }
      ]
    },
    {
      "cell_type": "code",
      "source": [
        "favorite_languages = {\n",
        "      'jen': 'python',\n",
        "      'sarah': 'c',\n",
        "      'edward': 'ruby',\n",
        "      'phil': 'python',\n",
        "      }\n",
        "\n",
        "for name, language in favorite_languages.items():\n",
        "    print(f\"{name.title()}'s favorite language is {language.title()}.\")"
      ],
      "metadata": {
        "colab": {
          "base_uri": "https://localhost:8080/"
        },
        "id": "lWWwUOzqkFdm",
        "outputId": "0d4490c4-bb92-4456-be74-3466410a8a3d"
      },
      "execution_count": 14,
      "outputs": [
        {
          "output_type": "stream",
          "name": "stdout",
          "text": [
            "Jen's favorite language is Python.\n",
            "Sarah's favorite language is C.\n",
            "Edward's favorite language is Ruby.\n",
            "Phil's favorite language is Python.\n"
          ]
        }
      ]
    },
    {
      "cell_type": "markdown",
      "source": [
        "在第一个示例中，for key, value in user_0.items(): 遍历了字典 user_0 中的键值对，其中 key 变量接收键，value 变量接收值。这意味着循环的每次迭代都提供了键和与之关联的值。\n",
        "\n",
        "在第二个示例中，for name in favorite_languages.keys(): 遍历了字典 favorite_languages 中的键（即字典的键集合），其中 name 变量接收键。这意味着循环的每次迭代只提供了键，而没有提供与之关联的值。\n",
        "\n",
        "如果你只需要遍历字典的键，而不需要访问与之关联的值，那么使用 .keys() 方法来获取键集合并遍历它们是一种更简单的方式。如果你需要同时访问键和与之关联的值，那么使用 .items() 方法来获取键值对并遍历它们是更合适的。\n",
        "\n",
        "总之，两种方式都是遍历字典的有效方法，你可以根据你的需求选择适合的方式。"
      ],
      "metadata": {
        "id": "PTVFQ4Ioknsm"
      }
    },
    {
      "cell_type": "code",
      "source": [],
      "metadata": {
        "id": "4qvSZeOrkpEg"
      },
      "execution_count": null,
      "outputs": []
    }
  ]
}