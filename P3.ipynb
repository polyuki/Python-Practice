{
  "nbformat": 4,
  "nbformat_minor": 0,
  "metadata": {
    "colab": {
      "provenance": [],
      "authorship_tag": "ABX9TyOnqlFX7OF/eqEm+sidfErV",
      "include_colab_link": true
    },
    "kernelspec": {
      "name": "python3",
      "display_name": "Python 3"
    },
    "language_info": {
      "name": "python"
    }
  },
  "cells": [
    {
      "cell_type": "markdown",
      "metadata": {
        "id": "view-in-github",
        "colab_type": "text"
      },
      "source": [
        "<a href=\"https://colab.research.google.com/github/polyuki/Python-Practice/blob/main/P3.ipynb\" target=\"_parent\"><img src=\"https://colab.research.google.com/assets/colab-badge.svg\" alt=\"Open In Colab\"/></a>"
      ]
    },
    {
      "cell_type": "code",
      "execution_count": null,
      "metadata": {
        "id": "-NYgMgrXSqfg",
        "colab": {
          "base_uri": "https://localhost:8080/"
        },
        "outputId": "4e9408a3-5fcf-4a9f-c9ad-480c3015b257"
      },
      "outputs": [
        {
          "output_type": "stream",
          "name": "stdout",
          "text": [
            "['honda', 'yamaha', 'suzuki', 'ducati']\n",
            "['honda', 'yamaha', 'suzuki']\n"
          ]
        }
      ],
      "source": [
        "  motorcycles = ['honda', 'yamaha', 'suzuki', 'ducati']\n",
        "  print(motorcycles)\n",
        "\n",
        "  motorcycles.remove('ducati')\n",
        "  print(motorcycles)"
      ]
    },
    {
      "cell_type": "code",
      "source": [
        "cars = ['bmw', 'audi', 'toyota', 'subaru']\n",
        "cars.sort()\n",
        "print(cars)"
      ],
      "metadata": {
        "colab": {
          "base_uri": "https://localhost:8080/"
        },
        "id": "xneOWz4dqFQZ",
        "outputId": "c59650af-7721-4837-c275-599878dfd295"
      },
      "execution_count": 1,
      "outputs": [
        {
          "output_type": "stream",
          "name": "stdout",
          "text": [
            "['audi', 'bmw', 'subaru', 'toyota']\n"
          ]
        }
      ]
    },
    {
      "cell_type": "code",
      "source": [
        "cars = ['bmw', 'audi', 'toyota', 'subaru']\n",
        "cars.sort(reverse=True)\n",
        "print(cars)"
      ],
      "metadata": {
        "colab": {
          "base_uri": "https://localhost:8080/"
        },
        "id": "x9JawzyfqM_I",
        "outputId": "981f1c02-a46d-454f-8aea-e9fbd5e7202b"
      },
      "execution_count": 2,
      "outputs": [
        {
          "output_type": "stream",
          "name": "stdout",
          "text": [
            "['toyota', 'subaru', 'bmw', 'audi']\n"
          ]
        }
      ]
    },
    {
      "cell_type": "code",
      "source": [
        "cars = ['bmw', 'audi', 'toyota', 'subaru']\n",
        "print(\"Here is the original list:\")\n",
        "print(cars)\n",
        "\n",
        "print(\"\\nHere is the sorted list:\")\n",
        "print(sorted(cars))\n",
        "\n",
        "print(\"\\nHere is the original list again:\")\n",
        "print(cars)"
      ],
      "metadata": {
        "colab": {
          "base_uri": "https://localhost:8080/"
        },
        "id": "Yg_q12S8qk1D",
        "outputId": "909ea9a5-43bd-4219-f4b9-c94850ad57c5"
      },
      "execution_count": 3,
      "outputs": [
        {
          "output_type": "stream",
          "name": "stdout",
          "text": [
            "Here is the original list:\n",
            "['bmw', 'audi', 'toyota', 'subaru']\n",
            "\n",
            "Here is the sorted list:\n",
            "['audi', 'bmw', 'subaru', 'toyota']\n",
            "\n",
            "Here is the original list again:\n",
            "['bmw', 'audi', 'toyota', 'subaru']\n"
          ]
        }
      ]
    },
    {
      "cell_type": "code",
      "source": [
        "# 初始列表\n",
        "cars = ['bmw', 'audi', 'toyota', 'subaru']\n",
        "\n",
        "# 对列表进行排序，并将结果保存到新的变量 sorted_cars 中\n",
        "sorted_cars = sorted(cars)\n",
        "\n",
        "# 打印排序后的列表\n",
        "print(\"Here is the sorted list:\")\n",
        "print(sorted_cars)\n",
        "\n",
        "# 打印原始列表，它仍然保持原始顺序\n",
        "print(\"Here is the original list again:\")\n",
        "print(cars)\n"
      ],
      "metadata": {
        "colab": {
          "base_uri": "https://localhost:8080/"
        },
        "id": "8yBjD4mvrYe-",
        "outputId": "0c777a6c-dfe7-4442-9a3e-ce3abdf88bf5"
      },
      "execution_count": 4,
      "outputs": [
        {
          "output_type": "stream",
          "name": "stdout",
          "text": [
            "Here is the sorted list:\n",
            "['audi', 'bmw', 'subaru', 'toyota']\n",
            "Here is the original list again:\n",
            "['bmw', 'audi', 'toyota', 'subaru']\n"
          ]
        }
      ]
    },
    {
      "cell_type": "code",
      "source": [
        "# 创建一个包含旅游地点的列表（不按字母顺序排列）\n",
        "travel_destinations = ['Paris', 'Tokyo', 'New York', 'Rome', 'Sydney']\n",
        "\n",
        "# 打印原始列表\n",
        "print(\"原始列表:\")\n",
        "print(travel_destinations)\n",
        "\n",
        "# 使用sorted()按字母顺序打印列表，不修改它\n",
        "print(\"\\n按字母顺序打印列表:\")\n",
        "print(sorted(travel_destinations))\n",
        "\n",
        "# 再次打印原始列表，核实排列顺序未变\n",
        "print(\"\\n再次打印原始列表:\")\n",
        "print(travel_destinations)\n",
        "\n",
        "# 使用sorted()按与字母顺序相反的顺序打印列表，不修改它\n",
        "print(\"\\n按与字母顺序相反的顺序打印列表:\")\n",
        "print(sorted(travel_destinations, reverse=True))\n",
        "\n",
        "# 再次打印原始列表，核实排列顺序未变\n",
        "print(\"\\n再次打印原始列表:\")\n",
        "print(travel_destinations)\n",
        "\n",
        "# 使用reverse()修改列表元素的排列顺序，打印修改后的列表\n",
        "travel_destinations.reverse()\n",
        "print(\"\\n使用reverse()修改列表元素的排列顺序:\")\n",
        "print(travel_destinations)\n",
        "\n",
        "# 使用reverse()再次修改列表元素的排列顺序，打印修改后的列表\n",
        "travel_destinations.reverse()\n",
        "print(\"\\n使用reverse()再次修改列表元素的排列顺序:\")\n",
        "print(travel_destinations)\n",
        "\n",
        "# 使用sort()修改列表元素的排列顺序，使其按字母顺序排列，打印修改后的列表\n",
        "travel_destinations.sort(reverse=True)\n",
        "print(\"\\n使用sort()修改列表元素的排列顺序，按与字母顺序相反的顺序排列:\")\n",
        "print(travel_destinations)"
      ],
      "metadata": {
        "colab": {
          "base_uri": "https://localhost:8080/"
        },
        "id": "CW9cXGNnsDSu",
        "outputId": "6711d1ab-be7a-435e-efaa-8ec5b0e52a7a"
      },
      "execution_count": 6,
      "outputs": [
        {
          "output_type": "stream",
          "name": "stdout",
          "text": [
            "原始列表:\n",
            "['Paris', 'Tokyo', 'New York', 'Rome', 'Sydney']\n",
            "\n",
            "按字母顺序打印列表:\n",
            "['New York', 'Paris', 'Rome', 'Sydney', 'Tokyo']\n",
            "\n",
            "再次打印原始列表:\n",
            "['Paris', 'Tokyo', 'New York', 'Rome', 'Sydney']\n",
            "\n",
            "按与字母顺序相反的顺序打印列表:\n",
            "['Tokyo', 'Sydney', 'Rome', 'Paris', 'New York']\n",
            "\n",
            "再次打印原始列表:\n",
            "['Paris', 'Tokyo', 'New York', 'Rome', 'Sydney']\n",
            "\n",
            "使用reverse()修改列表元素的排列顺序:\n",
            "['Sydney', 'Rome', 'New York', 'Tokyo', 'Paris']\n",
            "\n",
            "使用reverse()再次修改列表元素的排列顺序:\n",
            "['Paris', 'Tokyo', 'New York', 'Rome', 'Sydney']\n",
            "\n",
            "使用sort()修改列表元素的排列顺序，按与字母顺序相反的顺序排列:\n",
            "['Tokyo', 'Sydney', 'Rome', 'Paris', 'New York']\n"
          ]
        }
      ]
    },
    {
      "cell_type": "code",
      "source": [
        "# 嘉宾名单\n",
        "guests = ['Alice', 'Bob', 'Charlie']\n",
        "\n",
        "# 计算嘉宾数量并打印消息\n",
        "num_guests = len(guests)\n",
        "print(f\"我邀请了 {num_guests} 位嘉宾来共进晚餐。\")\n"
      ],
      "metadata": {
        "colab": {
          "base_uri": "https://localhost:8080/"
        },
        "id": "bn20JmE1scWr",
        "outputId": "39ec1211-cf1b-491c-e116-a4039b2212c9"
      },
      "execution_count": 7,
      "outputs": [
        {
          "output_type": "stream",
          "name": "stdout",
          "text": [
            "我邀请了 3 位嘉宾来共进晚餐。\n"
          ]
        }
      ]
    },
    {
      "cell_type": "code",
      "source": [
        " motorcycles = ['honda', 'yamaha', 'suzuki', 'ducati']\n",
        " print(motorcycles)\n",
        "\n",
        " too_expensive = 'ducati'\n",
        " motorcycles.remove(too_expensive)\n",
        " print(motorcycles)\n",
        " print(f\"\\nA {too_expensive.title()} is too expensive for me.\")"
      ],
      "metadata": {
        "colab": {
          "base_uri": "https://localhost:8080/"
        },
        "id": "hnaRIJWI3AwB",
        "outputId": "0bd6ba97-5508-49aa-dd25-ca9ad8cf3b5e"
      },
      "execution_count": null,
      "outputs": [
        {
          "output_type": "stream",
          "name": "stdout",
          "text": [
            "['honda', 'yamaha', 'suzuki', 'ducati']\n",
            "['honda', 'yamaha', 'suzuki']\n",
            "\n",
            "A Ducati is too expensive for me.\n"
          ]
        }
      ]
    },
    {
      "cell_type": "code",
      "source": [
        "# 创建一个包含邀请人名的列表\n",
        "guests = ['Alice', 'Bob', 'Charlie']\n",
        "\n",
        "# 打印邀请消息\n",
        "for guest in guests:\n",
        "    print(f\"Dear {guest}, you are cordially invited to join me for dinner.\")\n",
        "\n",
        "# 打印结束消息\n",
        "print(\"I look forward to seeing you all at the dinner!\")\n"
      ],
      "metadata": {
        "colab": {
          "base_uri": "https://localhost:8080/"
        },
        "id": "qVXL1QsP49VO",
        "outputId": "18d3ec42-fe93-4fe6-e44d-dc56d0cb7ab6"
      },
      "execution_count": null,
      "outputs": [
        {
          "output_type": "stream",
          "name": "stdout",
          "text": [
            "Dear Alice, you are cordially invited to join me for dinner.\n",
            "Dear Bob, you are cordially invited to join me for dinner.\n",
            "Dear Charlie, you are cordially invited to join me for dinner.\n",
            "I look forward to seeing you all at the dinner!\n"
          ]
        }
      ]
    },
    {
      "cell_type": "code",
      "source": [
        "# 原始嘉宾名单\n",
        "guests = ['Alice', 'Bob', 'Charlie']\n",
        "\n",
        "# 打印哪位嘉宾无法赴约\n",
        "print(f\"{guests[1]} 无法赴约。\")\n",
        "\n",
        "# 修改嘉宾名单，将无法赴约的嘉宾替换为新邀请的嘉宾\n",
        "guests[1] = 'David'  # 假设你要邀请 David 替代 Bob\n",
        "\n",
        "# 打印新的邀请消息\n",
        "for guest in guests:\n",
        "    print(f\"Dear {guest}, you are cordially invited to join me for dinner.\")\n",
        "\n",
        "# 打印结束消息\n",
        "print(\"I look forward to seeing you all at the dinner!\")\n"
      ],
      "metadata": {
        "id": "1IX9Vl0S5PHU",
        "outputId": "47b98a09-4b9f-4efe-9972-70d2da5fb24f",
        "colab": {
          "base_uri": "https://localhost:8080/"
        }
      },
      "execution_count": null,
      "outputs": [
        {
          "output_type": "stream",
          "name": "stdout",
          "text": [
            "Bob 无法赴约。\n",
            "Dear Alice, you are cordially invited to join me for dinner.\n",
            "Dear David, you are cordially invited to join me for dinner.\n",
            "Dear Charlie, you are cordially invited to join me for dinner.\n",
            "I look forward to seeing you all at the dinner!\n"
          ]
        }
      ]
    }
  ]
}