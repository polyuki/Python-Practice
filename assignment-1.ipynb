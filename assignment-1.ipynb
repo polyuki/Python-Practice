{
  "nbformat": 4,
  "nbformat_minor": 0,
  "metadata": {
    "colab": {
      "provenance": [],
      "authorship_tag": "ABX9TyNftl2gwjvEuJewQm26GotC",
      "include_colab_link": true
    },
    "kernelspec": {
      "name": "python3",
      "display_name": "Python 3"
    },
    "language_info": {
      "name": "python"
    }
  },
  "cells": [
    {
      "cell_type": "markdown",
      "metadata": {
        "id": "view-in-github",
        "colab_type": "text"
      },
      "source": [
        "<a href=\"https://colab.research.google.com/github/polyuki/Python-Practice/blob/main/assignment-1.ipynb\" target=\"_parent\"><img src=\"https://colab.research.google.com/assets/colab-badge.svg\" alt=\"Open In Colab\"/></a>"
      ]
    },
    {
      "cell_type": "code",
      "execution_count": 1,
      "metadata": {
        "colab": {
          "base_uri": "https://localhost:8080/"
        },
        "id": "yDqfDRRNB5du",
        "outputId": "a6239fc8-5f17-4c1b-e4ea-340a74150294"
      },
      "outputs": [
        {
          "output_type": "stream",
          "name": "stdout",
          "text": [
            "数据行数: 92163\n"
          ]
        }
      ],
      "source": [
        "import pandas as pd\n",
        "\n",
        "# 读取数据文件\n",
        "data = pd.read_csv(\"assignment_train.csv\")\n",
        "\n",
        "# 使用len()函数获取数据的行数\n",
        "num_rows = len(data)\n",
        "\n",
        "# 打印数据行数\n",
        "print(\"数据行数:\", num_rows)\n"
      ]
    },
    {
      "cell_type": "code",
      "source": [
        "import pandas as pd\n",
        "\n",
        "# 读取数据文件\n",
        "data = pd.read_csv(\"assignment_train.csv\")\n",
        "\n",
        "# 获取数据行数和列数\n",
        "num_rows, num_columns = data.shape\n",
        "\n",
        "# 打印数据行数\n",
        "print(\"数据行数:\", num_rows)\n"
      ],
      "metadata": {
        "colab": {
          "base_uri": "https://localhost:8080/"
        },
        "id": "zUrPuAKxDVMX",
        "outputId": "216d01f3-3b0e-4832-fa47-3da8885f26c0"
      },
      "execution_count": 2,
      "outputs": [
        {
          "output_type": "stream",
          "name": "stdout",
          "text": [
            "数据行数: 92163\n"
          ]
        }
      ]
    },
    {
      "cell_type": "code",
      "source": [
        "import pandas as pd\n",
        "\n",
        "# 读取数据文件\n",
        "data = pd.read_csv(\"assignment_train.csv\")\n",
        "\n",
        "# 计算 Trip_Distance 列的平均值\n",
        "average_distance = data[\"Trip_Distance\"].mean()\n",
        "print(\"平均值:\", average_distance)\n",
        "\n",
        "# 计算 Trip_Distance 列的最大值\n",
        "max_distance = data[\"Trip_Distance\"].max()\n",
        "print(\"最大值:\", max_distance)\n",
        "\n",
        "# 计算 Trip_Distance 列的最小值\n",
        "min_distance = data[\"Trip_Distance\"].min()\n",
        "print(\"最小值:\", min_distance)\n",
        "\n",
        "# 计算 Trip_Distance 列的标准偏差\n",
        "std_deviation = data[\"Trip_Distance\"].std()\n",
        "print(\"标准偏差:\", std_deviation)\n"
      ],
      "metadata": {
        "colab": {
          "base_uri": "https://localhost:8080/"
        },
        "id": "b6eIGHK1Djdu",
        "outputId": "4c8da342-50be-45a4-85a5-9c855b806a57"
      },
      "execution_count": 3,
      "outputs": [
        {
          "output_type": "stream",
          "name": "stdout",
          "text": [
            "平均值: 44.18973264759176\n",
            "最大值: 109.23\n",
            "最小值: 0.31\n",
            "标准偏差: 25.491623345455587\n"
          ]
        }
      ]
    },
    {
      "cell_type": "code",
      "source": [
        "import pandas as pd\n",
        "\n",
        "# 从CSV文件中读取数据\n",
        "data = pd.read_csv(\"assignment_train.csv\")\n",
        "\n",
        "# 计算相关系数矩阵\n",
        "correlation_matrix = data.corr()\n",
        "max_correlation = correlation_matrix.unstack().sort_values(ascending=False).drop_duplicates()\n",
        "print(max_correlation.head())\n"
      ],
      "metadata": {
        "colab": {
          "base_uri": "https://localhost:8080/"
        },
        "id": "_LbTK-htE4fl",
        "outputId": "79282795-8a31-4a57-e5bf-1cd8c03bdee4"
      },
      "execution_count": 13,
      "outputs": [
        {
          "output_type": "stream",
          "name": "stdout",
          "text": [
            "Unnamed: 0          Unnamed: 0               1.000000\n",
            "Life_Style_Index    Trip_Distance            0.508698\n",
            "Customer_Rating     Life_Style_Index         0.208047\n",
            "Life_Style_Index    Customer_Since_Months    0.135161\n",
            "Surge_Pricing_Type  Customer_Rating          0.133683\n",
            "dtype: float64\n"
          ]
        },
        {
          "output_type": "stream",
          "name": "stderr",
          "text": [
            "<ipython-input-13-97de94a898f5>:7: FutureWarning: The default value of numeric_only in DataFrame.corr is deprecated. In a future version, it will default to False. Select only valid columns or specify the value of numeric_only to silence this warning.\n",
            "  correlation_matrix = data.corr()\n"
          ]
        }
      ]
    },
    {
      "cell_type": "code",
      "source": [
        "import pandas as pd\n",
        "\n",
        "# CSVファイルからデータを読み込む（データの読み込み方法に応じて適切なコードを使用）\n",
        "data = pd.read_csv(\"assignment_train.csv\")\n",
        "\n",
        "# 各列の欠損値の数をカウントし、欠損値が最も多い列を特定\n",
        "missing_values = data.isnull().sum()\n",
        "column_with_most_missing_values = missing_values.idxmax()\n",
        "max_missing_values = missing_values.max()\n",
        "\n",
        "print(\"欠損値が最も多い列:\", column_with_most_missing_values)\n",
        "print(\"欠損値の数:\", max_missing_values)\n"
      ],
      "metadata": {
        "colab": {
          "base_uri": "https://localhost:8080/"
        },
        "id": "UxhwhKGxHGcn",
        "outputId": "6d0f5487-3336-47bf-d342-f8898e7446af"
      },
      "execution_count": 14,
      "outputs": [
        {
          "output_type": "stream",
          "name": "stdout",
          "text": [
            "欠損値が最も多い列: Type_of_Cab\n",
            "欠損値の数: 14187\n"
          ]
        }
      ]
    },
    {
      "cell_type": "code",
      "source": [
        "import pandas as pd\n",
        "\n",
        "# CSVファイルからデータを読み込む（データの読み込み方法に応じて適切なコードを使用）\n",
        "data = pd.read_csv(\"assignment_train.csv\")\n",
        "\n",
        "# 欠損値を含む行を削除した後、残った行数を数える\n",
        "data_without_missing_values = data.dropna()\n",
        "row_count_without_missing_values = len(data_without_missing_values)\n",
        "\n",
        "print(\"欠損値を含まない行数:\", row_count_without_missing_values)\n"
      ],
      "metadata": {
        "colab": {
          "base_uri": "https://localhost:8080/"
        },
        "id": "7S0iif9IHeMP",
        "outputId": "c028646d-7eb0-4cb9-cba2-3ba42d375613"
      },
      "execution_count": 15,
      "outputs": [
        {
          "output_type": "stream",
          "name": "stdout",
          "text": [
            "欠損値を含まない行数: 62990\n"
          ]
        }
      ]
    },
    {
      "cell_type": "code",
      "source": [
        "import pandas as pd\n",
        "\n",
        "# 从CSV文件中读取数据（根据你的数据文件路径进行修改）\n",
        "data = pd.read_csv(\"assignment_train.csv\")\n",
        "\n",
        "# 查看所有列名\n",
        "column_names = data.columns\n",
        "print(column_names)\n",
        "\n"
      ],
      "metadata": {
        "colab": {
          "base_uri": "https://localhost:8080/"
        },
        "id": "7EGqRo65KGJP",
        "outputId": "03d2e32f-5f6d-4919-8da5-4b7263253c0b"
      },
      "execution_count": 18,
      "outputs": [
        {
          "output_type": "stream",
          "name": "stdout",
          "text": [
            "Index(['Unnamed: 0', 'Trip_ID', 'Trip_Distance', 'Type_of_Cab',\n",
            "       'Customer_Since_Months', 'Life_Style_Index',\n",
            "       'Confidence_Life_Style_Index', 'Destination_Type', 'Customer_Rating',\n",
            "       'Cancellation_Last_1Month', 'Gender', 'Surge_Pricing_Type'],\n",
            "      dtype='object')\n"
          ]
        }
      ]
    },
    {
      "cell_type": "code",
      "source": [
        "import pandas as pd\n",
        "\n",
        "# 从CSV文件中读取数据（根据你的数据文件路径进行修改）\n",
        "data = pd.read_csv(\"assignment_train.csv\")\n",
        "\n",
        "# 定义异常值的阈值，例如，我们将值大于100或小于0的数据视为异常值\n",
        "threshold = 0\n",
        "\n",
        "# 根据阈值过滤异常值，只保留不满足条件的数据\n",
        "filtered_data = data[(data[\"Trip_Distance\"] <= threshold) & (data[\"Trip_Distance\"] >= 0)]\n",
        "\n",
        "\n",
        "# 打印删除异常值后的数据行数，以检查处理效果\n",
        "print(\"删除异常值后的数据行数:\", len(filtered_data))\n",
        "\n"
      ],
      "metadata": {
        "colab": {
          "base_uri": "https://localhost:8080/"
        },
        "id": "d3ytZbPtK_54",
        "outputId": "f4a76096-88f9-4dea-e23d-7bcf1461ea6d"
      },
      "execution_count": 19,
      "outputs": [
        {
          "output_type": "stream",
          "name": "stdout",
          "text": [
            "删除异常值后的数据行数: 0\n"
          ]
        }
      ]
    }
  ]
}