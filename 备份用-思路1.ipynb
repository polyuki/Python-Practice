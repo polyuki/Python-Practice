{
  "nbformat": 4,
  "nbformat_minor": 0,
  "metadata": {
    "colab": {
      "provenance": [],
      "authorship_tag": "ABX9TyO7ke3UOnfCAPgmUk8gMhc8",
      "include_colab_link": true
    },
    "kernelspec": {
      "name": "python3",
      "display_name": "Python 3"
    },
    "language_info": {
      "name": "python"
    }
  },
  "cells": [
    {
      "cell_type": "markdown",
      "metadata": {
        "id": "view-in-github",
        "colab_type": "text"
      },
      "source": [
        "<a href=\"https://colab.research.google.com/github/polyuki/Python-Practice/blob/main/%E5%A4%87%E4%BB%BD%E7%94%A8-%E6%80%9D%E8%B7%AF1.ipynb\" target=\"_parent\"><img src=\"https://colab.research.google.com/assets/colab-badge.svg\" alt=\"Open In Colab\"/></a>"
      ]
    },
    {
      "cell_type": "code",
      "execution_count": null,
      "metadata": {
        "colab": {
          "base_uri": "https://localhost:8080/"
        },
        "id": "1rod_jwIJ13b",
        "outputId": "8048ba5a-2aeb-461c-f124-f7261b6ab09e"
      },
      "outputs": [
        {
          "output_type": "stream",
          "name": "stdout",
          "text": [
            "   customerID  gender  SeniorCitizen Partner Dependents  tenure PhoneService  \\\n",
            "0  7590-VHVEG  Female              0     Yes         No       1           No   \n",
            "1  5575-GNVDE    Male              0      No         No      34          Yes   \n",
            "2  3668-QPYBK    Male              0      No         No       2          Yes   \n",
            "3  7795-CFOCW    Male              0      No         No      45           No   \n",
            "4  9237-HQITU  Female              0      No         No       2          Yes   \n",
            "\n",
            "      MultipleLines InternetService OnlineSecurity  ... DeviceProtection  \\\n",
            "0  No phone service             DSL             No  ...               No   \n",
            "1                No             DSL            Yes  ...              Yes   \n",
            "2                No             DSL            Yes  ...               No   \n",
            "3  No phone service             DSL            Yes  ...              Yes   \n",
            "4                No     Fiber optic             No  ...               No   \n",
            "\n",
            "  TechSupport StreamingTV StreamingMovies        Contract PaperlessBilling  \\\n",
            "0          No          No              No  Month-to-month              Yes   \n",
            "1          No          No              No        One year               No   \n",
            "2          No          No              No  Month-to-month              Yes   \n",
            "3         Yes          No              No        One year               No   \n",
            "4          No          No              No  Month-to-month              Yes   \n",
            "\n",
            "               PaymentMethod MonthlyCharges  TotalCharges Churn  \n",
            "0           Electronic check          29.85         29.85    No  \n",
            "1               Mailed check          56.95        1889.5    No  \n",
            "2               Mailed check          53.85        108.15   Yes  \n",
            "3  Bank transfer (automatic)          42.30       1840.75    No  \n",
            "4           Electronic check          70.70        151.65   Yes  \n",
            "\n",
            "[5 rows x 21 columns]\n"
          ]
        }
      ],
      "source": [
        "import pandas as pd\n",
        "\n",
        "# 读取CSV文件\n",
        "data = pd.read_csv(\"Tel.csv\")\n",
        "\n",
        "# 查看数据的前几行\n",
        "print(data.head())\n"
      ]
    },
    {
      "cell_type": "code",
      "source": [
        "# 获取列名\n",
        "column_names = data.columns\n",
        "\n",
        "# 打印列名\n",
        "print(column_names)\n"
      ],
      "metadata": {
        "colab": {
          "base_uri": "https://localhost:8080/"
        },
        "id": "4_OCeXAXKxQt",
        "outputId": "b2b57c24-4bbe-45db-c58d-708209b347ad"
      },
      "execution_count": null,
      "outputs": [
        {
          "output_type": "stream",
          "name": "stdout",
          "text": [
            "Index(['customerID', 'gender', 'SeniorCitizen', 'Partner', 'Dependents',\n",
            "       'tenure', 'PhoneService', 'MultipleLines', 'InternetService',\n",
            "       'OnlineSecurity', 'OnlineBackup', 'DeviceProtection', 'TechSupport',\n",
            "       'StreamingTV', 'StreamingMovies', 'Contract', 'PaperlessBilling',\n",
            "       'PaymentMethod', 'MonthlyCharges', 'TotalCharges', 'Churn'],\n",
            "      dtype='object')\n"
          ]
        }
      ]
    },
    {
      "cell_type": "code",
      "source": [
        "import numpy as np\n",
        "\n",
        "# 将空字符串替换为NaN\n",
        "data['tenure'].replace(' ', np.nan, inplace=True)\n",
        "data['MonthlyCharges'].replace(' ', np.nan, inplace=True)\n",
        "data['TotalCharges'].replace(' ', np.nan, inplace=True)\n",
        "\n",
        "# 将NaN填充为中位数\n",
        "median_tenure = data['tenure'].median()\n",
        "median_monthly_charges = data['MonthlyCharges'].median()\n",
        "median_total_charges = data['TotalCharges'].median()\n",
        "\n",
        "data['tenure'].fillna(median_tenure, inplace=True)\n",
        "data['MonthlyCharges'].fillna(median_monthly_charges, inplace=True)\n",
        "data['TotalCharges'].fillna(median_total_charges, inplace=True)\n"
      ],
      "metadata": {
        "id": "ux-bx-5UKfMt"
      },
      "execution_count": null,
      "outputs": []
    },
    {
      "cell_type": "code",
      "source": [
        "from sklearn.model_selection import train_test_split\n"
      ],
      "metadata": {
        "id": "azLJDTHDSsHI"
      },
      "execution_count": null,
      "outputs": []
    },
    {
      "cell_type": "code",
      "source": [
        "# 定义特征和目标列\n",
        "X = data.drop(columns=['Churn'])  # 特征列\n",
        "y = data['Churn']  # 目标列\n",
        "\n",
        "# 将数据集划分为训练集和测试集，通常使用80%的数据作为训练集，20%的数据作为测试集\n",
        "X_train, X_test, y_train, y_test = train_test_split(X, y, test_size=0.2, random_state=42)\n",
        "\n",
        "# test_size参数指定了测试集的大小，这里是20%，可以根据需要进行调整\n",
        "# random_state参数用于确保划分是可重复的，即使用相同的random_state值，每次划分结果相同\n"
      ],
      "metadata": {
        "id": "x4J0OjP2Svs3"
      },
      "execution_count": null,
      "outputs": []
    },
    {
      "cell_type": "code",
      "source": [
        "data['Churn'] = data['Churn'].map({'Yes': 1, 'No': 0})\n"
      ],
      "metadata": {
        "id": "2nVHWKIgTrez"
      },
      "execution_count": null,
      "outputs": []
    },
    {
      "cell_type": "code",
      "source": [
        "print(data.columns)\n"
      ],
      "metadata": {
        "colab": {
          "base_uri": "https://localhost:8080/"
        },
        "id": "WgvQ3OW_UHKs",
        "outputId": "1f7723d5-0a16-4742-c35d-d8949515fe61"
      },
      "execution_count": null,
      "outputs": [
        {
          "output_type": "stream",
          "name": "stdout",
          "text": [
            "Index(['customerID', 'gender', 'SeniorCitizen', 'tenure', 'InternetService',\n",
            "       'Contract', 'PaymentMethod', 'MonthlyCharges', 'TotalCharges', 'Churn',\n",
            "       'Partner_No', 'Partner_Yes', 'Dependents_No', 'Dependents_Yes',\n",
            "       'PhoneService_No', 'PhoneService_Yes', 'MultipleLines_No',\n",
            "       'MultipleLines_No phone service', 'MultipleLines_Yes',\n",
            "       'OnlineSecurity_No', 'OnlineSecurity_No internet service',\n",
            "       'OnlineSecurity_Yes', 'OnlineBackup_No',\n",
            "       'OnlineBackup_No internet service', 'OnlineBackup_Yes',\n",
            "       'DeviceProtection_No', 'DeviceProtection_No internet service',\n",
            "       'DeviceProtection_Yes', 'TechSupport_No',\n",
            "       'TechSupport_No internet service', 'TechSupport_Yes', 'StreamingTV_No',\n",
            "       'StreamingTV_No internet service', 'StreamingTV_Yes',\n",
            "       'StreamingMovies_No', 'StreamingMovies_No internet service',\n",
            "       'StreamingMovies_Yes', 'PaperlessBilling_No', 'PaperlessBilling_Yes'],\n",
            "      dtype='object')\n"
          ]
        }
      ]
    },
    {
      "cell_type": "code",
      "source": [
        "data['gender'] = data['gender'].map({'Male': 1, 'Female': 0})\n"
      ],
      "metadata": {
        "id": "Ne49o_gwXCmJ"
      },
      "execution_count": null,
      "outputs": []
    },
    {
      "cell_type": "code",
      "source": [
        "data = pd.get_dummies(data, columns=['InternetService', 'Contract', 'PaymentMethod'])\n"
      ],
      "metadata": {
        "id": "YJmarwPwXDx3"
      },
      "execution_count": null,
      "outputs": []
    },
    {
      "cell_type": "code",
      "source": [
        "correlation_matrix = data.corr()\n",
        "correlation_with_churn = correlation_matrix['Churn'].abs().sort_values(ascending=False)\n"
      ],
      "metadata": {
        "colab": {
          "base_uri": "https://localhost:8080/"
        },
        "id": "EcDD1DtRXQV5",
        "outputId": "7df2a07d-2461-48f1-e38b-30c589524fd4"
      },
      "execution_count": null,
      "outputs": [
        {
          "output_type": "stream",
          "name": "stderr",
          "text": [
            "<ipython-input-32-173f0636a36e>:1: FutureWarning: The default value of numeric_only in DataFrame.corr is deprecated. In a future version, it will default to False. Select only valid columns or specify the value of numeric_only to silence this warning.\n",
            "  correlation_matrix = data.corr()\n"
          ]
        }
      ]
    },
    {
      "cell_type": "code",
      "source": [
        "print(correlation_with_churn)\n"
      ],
      "metadata": {
        "colab": {
          "base_uri": "https://localhost:8080/"
        },
        "id": "9El-U-FDXlsQ",
        "outputId": "a5c04a5f-55d0-442e-d4be-108e06cfed3e"
      },
      "execution_count": null,
      "outputs": [
        {
          "output_type": "stream",
          "name": "stdout",
          "text": [
            "Churn                                      1.000000\n",
            "Contract_Month-to-month                    0.405103\n",
            "tenure                                     0.352229\n",
            "OnlineSecurity_No                          0.342637\n",
            "TechSupport_No                             0.337281\n",
            "InternetService_Fiber optic                0.308020\n",
            "Contract_Two year                          0.302253\n",
            "PaymentMethod_Electronic check             0.301919\n",
            "OnlineBackup_No                            0.268005\n",
            "DeviceProtection_No                        0.252481\n",
            "InternetService_No                         0.227890\n",
            "StreamingTV_No internet service            0.227890\n",
            "TechSupport_No internet service            0.227890\n",
            "DeviceProtection_No internet service       0.227890\n",
            "OnlineBackup_No internet service           0.227890\n",
            "OnlineSecurity_No internet service         0.227890\n",
            "StreamingMovies_No internet service        0.227890\n",
            "MonthlyCharges                             0.193356\n",
            "PaperlessBilling_Yes                       0.191825\n",
            "PaperlessBilling_No                        0.191825\n",
            "Contract_One year                          0.177820\n",
            "OnlineSecurity_Yes                         0.171226\n",
            "TechSupport_Yes                            0.164674\n",
            "Dependents_No                              0.164221\n",
            "Dependents_Yes                             0.164221\n",
            "SeniorCitizen                              0.150889\n",
            "Partner_No                                 0.150448\n",
            "Partner_Yes                                0.150448\n",
            "PaymentMethod_Credit card (automatic)      0.134302\n",
            "StreamingMovies_No                         0.130845\n",
            "StreamingTV_No                             0.128916\n",
            "InternetService_DSL                        0.124214\n",
            "PaymentMethod_Bank transfer (automatic)    0.117937\n",
            "PaymentMethod_Mailed check                 0.091683\n",
            "OnlineBackup_Yes                           0.082255\n",
            "DeviceProtection_Yes                       0.066160\n",
            "StreamingTV_Yes                            0.063228\n",
            "StreamingMovies_Yes                        0.061382\n",
            "MultipleLines_Yes                          0.040102\n",
            "MultipleLines_No                           0.032569\n",
            "MultipleLines_No phone service             0.011942\n",
            "PhoneService_No                            0.011942\n",
            "PhoneService_Yes                           0.011942\n",
            "gender                                     0.008612\n",
            "Name: Churn, dtype: float64\n"
          ]
        }
      ]
    },
    {
      "cell_type": "code",
      "source": [],
      "metadata": {
        "id": "FLZRvaqhb4PQ"
      },
      "execution_count": null,
      "outputs": []
    }
  ]
}