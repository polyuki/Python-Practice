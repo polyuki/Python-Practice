{
  "nbformat": 4,
  "nbformat_minor": 0,
  "metadata": {
    "colab": {
      "provenance": [],
      "authorship_tag": "ABX9TyPfNGmkgPENO6R9osJIvmra",
      "include_colab_link": true
    },
    "kernelspec": {
      "name": "python3",
      "display_name": "Python 3"
    },
    "language_info": {
      "name": "python"
    }
  },
  "cells": [
    {
      "cell_type": "markdown",
      "metadata": {
        "id": "view-in-github",
        "colab_type": "text"
      },
      "source": [
        "<a href=\"https://colab.research.google.com/github/polyuki/Python-Practice/blob/main/Assignment2_for_exam.ipynb\" target=\"_parent\"><img src=\"https://colab.research.google.com/assets/colab-badge.svg\" alt=\"Open In Colab\"/></a>"
      ]
    },
    {
      "cell_type": "code",
      "source": [
        "import pandas as pd\n",
        "\n",
        "# 导入CSV文件\n",
        "df = pd.read_csv('train.csv')\n",
        "\n",
        "# 查看所有列\n",
        "print(df.columns)\n"
      ],
      "metadata": {
        "colab": {
          "base_uri": "https://localhost:8080/"
        },
        "id": "lKzz9cLMLVVI",
        "outputId": "f70463f0-b285-4cd6-d354-1cfa23be47da"
      },
      "execution_count": 2,
      "outputs": [
        {
          "output_type": "stream",
          "name": "stdout",
          "text": [
            "Index(['id', 'age', 'job', 'marital', 'education', 'default', 'balance',\n",
            "       'housing', 'loan', 'contact', 'day', 'month', 'duration', 'campaign',\n",
            "       'pdays', 'previous', 'poutcome', 'y'],\n",
            "      dtype='object')\n"
          ]
        }
      ]
    },
    {
      "cell_type": "code",
      "source": [
        "marital_counts = df['marital'].value_counts()\n",
        "print(marital_counts)\n"
      ],
      "metadata": {
        "colab": {
          "base_uri": "https://localhost:8080/"
        },
        "id": "2HDPJ28OLwnD",
        "outputId": "4dd22bdc-d0ad-456d-e7c2-e5d16ea2700e"
      },
      "execution_count": 3,
      "outputs": [
        {
          "output_type": "stream",
          "name": "stdout",
          "text": [
            "married     16411\n",
            "single       7662\n",
            "divorced     3055\n",
            "Name: marital, dtype: int64\n"
          ]
        }
      ]
    },
    {
      "cell_type": "code",
      "source": [
        "contingency_table = pd.crosstab(df['loan'], df['y'])\n",
        "print(contingency_table)\n"
      ],
      "metadata": {
        "colab": {
          "base_uri": "https://localhost:8080/"
        },
        "id": "Mgvd4l7sNz2P",
        "outputId": "6ced05bc-cf31-4d1b-ffdf-cfdb7e7d9451"
      },
      "execution_count": 4,
      "outputs": [
        {
          "output_type": "stream",
          "name": "stdout",
          "text": [
            "y         0     1\n",
            "loan             \n",
            "no    19912  2876\n",
            "yes    4042   298\n"
          ]
        }
      ]
    },
    {
      "cell_type": "code",
      "source": [
        "# 计算差异比例（Odds Ratio）\n",
        "no_loan_y = 2876\n",
        "no_loan_total = 19912\n",
        "yes_loan_y = 298\n",
        "yes_loan_total = 4042\n",
        "\n",
        "odds_ratio = (no_loan_y / no_loan_total) / (yes_loan_y / yes_loan_total)\n",
        "\n",
        "print(\"差异比例（Odds Ratio）：\", odds_ratio)\n"
      ],
      "metadata": {
        "colab": {
          "base_uri": "https://localhost:8080/"
        },
        "id": "KpmA2mBTOkU8",
        "outputId": "c7a3887a-5a99-41df-c7da-a77a875c0004"
      },
      "execution_count": 8,
      "outputs": [
        {
          "output_type": "stream",
          "name": "stdout",
          "text": [
            "差异比例（Odds Ratio）： 1.9590884455361979\n"
          ]
        }
      ]
    }
  ]
}