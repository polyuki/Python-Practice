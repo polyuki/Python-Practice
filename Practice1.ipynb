{
  "nbformat": 4,
  "nbformat_minor": 0,
  "metadata": {
    "colab": {
      "provenance": [],
      "authorship_tag": "ABX9TyPbB2EQJrPulowlSQjYaqbL",
      "include_colab_link": true
    },
    "kernelspec": {
      "name": "python3",
      "display_name": "Python 3"
    },
    "language_info": {
      "name": "python"
    }
  },
  "cells": [
    {
      "cell_type": "markdown",
      "metadata": {
        "id": "view-in-github",
        "colab_type": "text"
      },
      "source": [
        "<a href=\"https://colab.research.google.com/github/polyuki/Python-Practice/blob/main/Practice1.ipynb\" target=\"_parent\"><img src=\"https://colab.research.google.com/assets/colab-badge.svg\" alt=\"Open In Colab\"/></a>"
      ]
    },
    {
      "cell_type": "code",
      "execution_count": null,
      "metadata": {
        "colab": {
          "base_uri": "https://localhost:8080/"
        },
        "id": "ifmPa0lAaZyL",
        "outputId": "58d36435-213c-48e8-f6fd-116ab44cf367"
      },
      "outputs": [
        {
          "output_type": "stream",
          "name": "stdout",
          "text": [
            "HELLO WORLD\n",
            "hellp world\n"
          ]
        }
      ],
      "source": [
        "print('HELLO WORLD')\n",
        "print('hellp world')"
      ]
    },
    {
      "cell_type": "markdown",
      "source": [],
      "metadata": {
        "id": "3basIS7WchEY"
      }
    },
    {
      "cell_type": "code",
      "source": [
        "name = \"Ada Lovelace\"\n",
        "print(name.upper())\n",
        "print(name.lower())"
      ],
      "metadata": {
        "colab": {
          "base_uri": "https://localhost:8080/"
        },
        "id": "nzE9kkgNchel",
        "outputId": "2da5ba98-fbc4-46b2-9052-0b2fcdb0b863"
      },
      "execution_count": null,
      "outputs": [
        {
          "output_type": "stream",
          "name": "stdout",
          "text": [
            "ADA LOVELACE\n",
            "ada lovelace\n"
          ]
        }
      ]
    },
    {
      "cell_type": "code",
      "source": [
        "name = \"ada lovelace\"\n",
        "print(name.title())"
      ],
      "metadata": {
        "colab": {
          "base_uri": "https://localhost:8080/"
        },
        "id": "sa8eeRnFcol6",
        "outputId": "5bedcab5-5071-427d-c4be-deae53e9027e"
      },
      "execution_count": null,
      "outputs": [
        {
          "output_type": "stream",
          "name": "stdout",
          "text": [
            "Ada Lovelace\n"
          ]
        }
      ]
    },
    {
      "cell_type": "code",
      "source": [
        "  first_name = \"ada\"\n",
        "  last_name = \"lovelace\"\n",
        "  full_name = f\"{first_name} {last_name}\"\n",
        "  print(full_name)"
      ],
      "metadata": {
        "colab": {
          "base_uri": "https://localhost:8080/"
        },
        "id": "V3tyvqhlc8Pn",
        "outputId": "9cb56309-7d4e-4fc8-b014-e81f9c1864c8"
      },
      "execution_count": null,
      "outputs": [
        {
          "output_type": "stream",
          "name": "stdout",
          "text": [
            "ada lovelace\n"
          ]
        }
      ]
    },
    {
      "cell_type": "code",
      "source": [
        "  first_name = \"ada\"\n",
        "  last_name = \"lovelace\"\n",
        "  full_name = f\"{first_name} {last_name}\"\n",
        "  print(f\"Hello, {full_name.title()}!\")"
      ],
      "metadata": {
        "colab": {
          "base_uri": "https://localhost:8080/"
        },
        "id": "CYliRFPchNiW",
        "outputId": "13edf469-7ab2-4966-bff0-05a9c8913baa"
      },
      "execution_count": null,
      "outputs": [
        {
          "output_type": "stream",
          "name": "stdout",
          "text": [
            "Hello, Ada Lovelace!\n"
          ]
        }
      ]
    },
    {
      "cell_type": "code",
      "source": [
        "  first_name = \"ada\"\n",
        "  last_name = \"lovelace\"\n",
        "  full_name = f\"{first_name} {last_name}\"\n",
        "  message = f\"Hello, {full_name.title()}!\"\n",
        "  print(message)"
      ],
      "metadata": {
        "colab": {
          "base_uri": "https://localhost:8080/"
        },
        "id": "9oHq2bFRhnM1",
        "outputId": "47bd567c-8efa-4122-a8a5-cdbf89df8f2d"
      },
      "execution_count": null,
      "outputs": [
        {
          "output_type": "stream",
          "name": "stdout",
          "text": [
            "Hello, Ada Lovelace!\n"
          ]
        }
      ]
    },
    {
      "cell_type": "code",
      "source": [
        "  >>> print(\"Python\")\n",
        "  >>> print(\"\\tPython\")"
      ],
      "metadata": {
        "colab": {
          "base_uri": "https://localhost:8080/"
        },
        "id": "7exY_NgejB0N",
        "outputId": "861f781e-1d03-4d86-b8f8-416208d5cb13"
      },
      "execution_count": null,
      "outputs": [
        {
          "output_type": "stream",
          "name": "stdout",
          "text": [
            "Python\n",
            "\tPython\n"
          ]
        }
      ]
    },
    {
      "cell_type": "code",
      "source": [
        ">>> print(\"Languages:\\nPython\\nC\\nJavaScript\")"
      ],
      "metadata": {
        "colab": {
          "base_uri": "https://localhost:8080/"
        },
        "id": "GjhR-rP0jhEQ",
        "outputId": "7d4e821a-7576-4216-c070-9c7b02cd7539"
      },
      "execution_count": null,
      "outputs": [
        {
          "output_type": "stream",
          "name": "stdout",
          "text": [
            "Languages:\n",
            "Python\n",
            "C\n",
            "JavaScript\n"
          ]
        }
      ]
    },
    {
      "cell_type": "code",
      "source": [
        "# 创建包含空白字符的人名\n",
        "name_with_whitespace = \"\\t  \\n John Doe \\t\\n \"\n",
        "\n",
        "# 打印原始人名，显示开头和末尾的空白\n",
        "print(\"原始人名:\")\n",
        "print(name_with_whitespace)\n",
        "\n",
        "# 使用lstrip()剔除开头的空白\n",
        "name_lstrip = name_with_whitespace.lstrip()\n",
        "print(\"\\nlstrip()处理后:\")\n",
        "print(name_lstrip)\n",
        "\n",
        "# 使用rstrip()剔除末尾的空白\n",
        "name_rstrip = name_with_whitespace.rstrip()\n",
        "print(\"\\nrstrip()处理后:\")\n",
        "print(name_rstrip)\n",
        "\n",
        "# 使用strip()剔除开头和末尾的空白\n",
        "name_strip = name_with_whitespace.strip()\n",
        "print(\"\\nstrip()处理后:\")\n",
        "print(name_strip)\n",
        "\n"
      ],
      "metadata": {
        "id": "YiTx6aaGj8MP",
        "outputId": "9228b384-37a7-407d-fbeb-84fdfbfdebf1",
        "colab": {
          "base_uri": "https://localhost:8080/"
        }
      },
      "execution_count": null,
      "outputs": [
        {
          "output_type": "stream",
          "name": "stdout",
          "text": [
            "原始人名:\n",
            "\t  \n",
            " John Doe \t\n",
            " \n",
            "\n",
            "lstrip()处理后:\n",
            "John Doe \t\n",
            " \n",
            "\n",
            "rstrip()处理后:\n",
            "\t  \n",
            " John Doe\n",
            "\n",
            "strip()处理后:\n",
            "John Doe\n"
          ]
        }
      ]
    },
    {
      "cell_type": "code",
      "source": [
        ">>> favorite_language = 'python '\n",
        ">>> favorite_language\n",
        ">>> favorite_language.rstrip()"
      ],
      "metadata": {
        "id": "62Y7JqvwjymR",
        "colab": {
          "base_uri": "https://localhost:8080/",
          "height": 36
        },
        "outputId": "36e48a9a-be1e-499d-c637-c98d554a0f9a"
      },
      "execution_count": null,
      "outputs": [
        {
          "output_type": "execute_result",
          "data": {
            "text/plain": [
              "'python'"
            ],
            "application/vnd.google.colaboratory.intrinsic+json": {
              "type": "string"
            }
          },
          "metadata": {},
          "execution_count": 20
        }
      ]
    },
    {
      "cell_type": "code",
      "source": [
        "name = 'Jerry'\n",
        "message = f'hi, {name}, bye {name}'\n",
        "print(message)\n",
        "print(message.upper())\n",
        "print(message.lower())\n",
        "print(message.title())\n"
      ],
      "metadata": {
        "colab": {
          "base_uri": "https://localhost:8080/"
        },
        "id": "X7qDIC7rDg86",
        "outputId": "aef36605-afc6-4de1-a9e3-fdd8e18a1b0c"
      },
      "execution_count": null,
      "outputs": [
        {
          "output_type": "stream",
          "name": "stdout",
          "text": [
            "hi, Jerry, bye Jerry\n",
            "HI, JERRY, BYE JERRY\n",
            "hi, jerry, bye jerry\n",
            "Hi, Jerry, Bye Jerry\n"
          ]
        }
      ]
    },
    {
      "cell_type": "code",
      "source": [
        "famous_person = \"Albert Einstein\"\n",
        "quote = \"Imagination is more important than knowledge.\"\n",
        "\n",
        "message = f'{famous_person} once said, \"{quote}\"'\n",
        "print(message)\n"
      ],
      "metadata": {
        "colab": {
          "base_uri": "https://localhost:8080/"
        },
        "id": "fe24ZeQBIIKV",
        "outputId": "66c49421-4471-4246-c557-1e4c2d9afe39"
      },
      "execution_count": null,
      "outputs": [
        {
          "output_type": "stream",
          "name": "stdout",
          "text": [
            "Albert Einstein once said, \"Imagination is more important than knowledge.\"\n"
          ]
        }
      ]
    },
    {
      "cell_type": "code",
      "source": [
        "# 使用变量表示名人的姓名\n",
        "famous_person = \"Albert Einstein\"\n",
        "\n",
        "# 创建要显示的消息\n",
        "message = f'{famous_person} once said, \"Imagination is more important than knowledge.\"'\n",
        "\n",
        "# 打印消息\n",
        "print(message)\n"
      ],
      "metadata": {
        "colab": {
          "base_uri": "https://localhost:8080/"
        },
        "id": "2XsiS0SxIezU",
        "outputId": "833e31f6-2fce-4b4b-ea47-1ce203a0c4da"
      },
      "execution_count": null,
      "outputs": [
        {
          "output_type": "stream",
          "name": "stdout",
          "text": [
            "Albert Einstein once said, \"Imagination is more important than knowledge.\"\n"
          ]
        }
      ]
    }
  ]
}